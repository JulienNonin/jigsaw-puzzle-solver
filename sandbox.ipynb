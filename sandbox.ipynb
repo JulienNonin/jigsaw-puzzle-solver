{
 "cells": [
  {
   "cell_type": "markdown",
   "metadata": {},
   "source": [
    "# Tutorial of  puzzle solver"
   ]
  },
  {
   "cell_type": "markdown",
   "metadata": {},
   "source": [
    "[![Open In Colab](https://colab.research.google.com/assets/colab-badge.svg)](https://colab.research.google.com/github/JulienNonin/jigsaw-puzzle-solver/blob/master/sandbox.ipynb)"
   ]
  },
  {
   "cell_type": "code",
   "execution_count": null,
   "metadata": {},
   "outputs": [],
   "source": [
    "! git clone https://github.com/JulienNonin/jigsaw-puzzle-solver.git"
   ]
  },
  {
   "cell_type": "code",
   "execution_count": null,
   "metadata": {},
   "outputs": [],
   "source": [
    "cd jigsaw-puzzle-solver"
   ]
  },
  {
   "cell_type": "markdown",
   "metadata": {},
   "source": [
    "## Introduction\n",
    "The idea of our project is to implement a puzzle solver which can generate puzzles in a custom way (according to the number of pieces, size, etc) and solve puzzles in different ways (according to different color spaces, different compatibility calculation methods, etc). \n",
    "<br>\n",
    "Our project is inspired by [Pomeranz, D., Shemesh, M., & Ben-Shahar, O. (2011, June). A fully automated greedy square jigsaw puzzle solver. In CVPR 2011 (pp. 9-16). IEEE](https://www.cs.bgu.ac.il/~ben-shahar/Publications/2011-Pomeranz_Shemesh_and_Ben_Shahar-A_Fully_Automated_Greedy_Square_Jigsaw_Puzzle_Solver.pdf)"
   ]
  },
  {
   "cell_type": "markdown",
   "metadata": {},
   "source": [
    "## Demonstrate\n",
    "The following will demonstrate the main function of puzzle solver:\n",
    "\n",
    "At first, we import all packages we need."
   ]
  },
  {
   "cell_type": "code",
   "execution_count": null,
   "metadata": {
    "tags": []
   },
   "outputs": [],
   "source": [
    "%load_ext autoreload\n",
    "%autoreload 2\n",
    "import numpy as np\n",
    "import matplotlib.pyplot as plt\n",
    "from jigsolver.puzzle import Slot,Piece,Puzzle,nb_pieces,nb_rows_and_columns,patch\n",
    "from jigsolver.metrics import *\n",
    "from jigsolver.pomeranz_solver.placer import *\n",
    "from jigsolver.pomeranz_solver.shifter import *\n",
    "from jigsolver.pomeranz_solver.segmenter import *\n",
    "from jigsolver.pomeranz_solver.solver import *\n",
    "from copy import copy, deepcopy"
   ]
  },
  {
   "cell_type": "markdown",
   "metadata": {},
   "source": [
    "### Modelisation of a Piece\n",
    "\n",
    "Here we created a piece with 3x3 pixels, we can get Top border of the piece and Bottom border of the piece easily. The main idea of the puzzle solver is based on comparing the compatibility between pieces."
   ]
  },
  {
   "cell_type": "code",
   "execution_count": null,
   "metadata": {},
   "outputs": [],
   "source": [
    "np.random.seed(1)\n",
    "P=Piece(np.random.randint(255,size=(3,3,3)))\n",
    "Q=Piece(np.random.randint(255,size=(3,3,3)))\n",
    "\n",
    "plt.figure(figsize=(12,10))\n",
    "\n",
    "plt.subplot(1,3,1)\n",
    "plt.imshow(P.picture,alpha=0.5)\n",
    "plt.title('Example of a Piece')\n",
    "\n",
    "plt.subplot(1,3,2)\n",
    "plt.imshow([P.get_border(Border.TOP)],alpha=0.5)\n",
    "plt.title('Top border of the piece')\n",
    "\n",
    "plt.subplot(1,3,3)\n",
    "plt.imshow([P.get_border(Border.BOTTOM)],alpha=0.5)\n",
    "plt.title('Bottom border of the piece')"
   ]
  },
  {
   "cell_type": "markdown",
   "metadata": {},
   "source": [
    "<hr/>"
   ]
  },
  {
   "cell_type": "markdown",
   "metadata": {},
   "source": [
    "### Modelisation of a puzzle\n",
    "\n",
    "Here we show how to create a Puzzle. We can create it by many ways : \n",
    "- Giving a number of pieces specifying the initializer <code>nb_pieces</code>\n",
    "- Giving a number of rows and number of columns specifying the initializer <code>nb_rows_and_columns</code>\n",
    "- Giving a particular patch_size specifying the initializer <code>patch</code>"
   ]
  },
  {
   "cell_type": "code",
   "execution_count": null,
   "metadata": {
    "tags": []
   },
   "outputs": [],
   "source": [
    "#import of the image\n",
    "img_folder = 'img/'\n",
    "img = plt.imread(img_folder + \"eiffel.jpg\")"
   ]
  },
  {
   "cell_type": "code",
   "execution_count": null,
   "metadata": {},
   "outputs": [],
   "source": [
    "N=24\n",
    "rows_and_columns=(9,13)\n",
    "patch_size=100\n",
    "\n",
    "plt.figure(figsize=(20,20))\n",
    "\n",
    "plt.subplot(1,3,1)\n",
    "eiffel_puzzle = Puzzle(img,nb_pieces(N))\n",
    "plt.title(f'A puzzle with {N} pieces ')\n",
    "eiffel_puzzle.ground_truth.display()\n",
    "\n",
    "\n",
    "plt.subplot(1,3,2)\n",
    "eiffel_puzzle = Puzzle(img,nb_rows_and_columns(rows_and_columns))\n",
    "plt.title(f'A puzzle with {rows_and_columns[0]} rows and {rows_and_columns[1]} columns ')\n",
    "eiffel_puzzle.ground_truth.display()\n",
    "\n",
    "plt.subplot(1,3,3)\n",
    "eiffel_puzzle = Puzzle(img,patch(patch_size))\n",
    "plt.title(f'A puzzle based on patches of lengths {100} ')\n",
    "eiffel_puzzle.ground_truth.display()"
   ]
  },
  {
   "cell_type": "markdown",
   "metadata": {},
   "source": [
    "You can easily change from one configuration to an other using the method <code> change_structure </code>"
   ]
  },
  {
   "cell_type": "code",
   "execution_count": null,
   "metadata": {},
   "outputs": [],
   "source": [
    "eiffel_puzzle = Puzzle(img,nb_pieces(N))\n",
    "\n",
    "plt.figure(figsize=(20,20))\n",
    "\n",
    "plt.subplot(1,3,1)\n",
    "\n",
    "eiffel_puzzle.change_structure(patch(200))\n",
    "plt.title(f'A puzzle based on patches of lengths 200 ')\n",
    "eiffel_puzzle.ground_truth.display()\n",
    "\n",
    "\n",
    "plt.subplot(1,3,2)\n",
    "eiffel_puzzle.change_structure(nb_rows_and_columns((10,10)))\n",
    "plt.title(f'A puzzle with 10 rows and 10 columns ')\n",
    "eiffel_puzzle.ground_truth.display()"
   ]
  },
  {
   "cell_type": "markdown",
   "metadata": {},
   "source": [
    "### Prepare to play\n",
    "\n",
    "When you create a puzzle, some pieces are created and gathered into a list called bag_of_pieces that you can obtain easily doing <code>MyPuzzle.bag_of_pieces</code>\n",
    "\n",
    "Immediately after, these pieces are shuffled and the game can start.\n",
    "\n",
    "When the game start, the player ground is empty. We will call this player ground a **Board**."
   ]
  },
  {
   "cell_type": "code",
   "execution_count": null,
   "metadata": {},
   "outputs": [],
   "source": [
    "eiffel_puzzle.display()"
   ]
  },
  {
   "cell_type": "markdown",
   "metadata": {},
   "source": [
    "Nevertheless, you can retrieve the original arrangement using <code>eiffel_puzzle.ground_truth</code>. \n",
    "\n",
    "This is done in order to be able to compute a performance metric which could enable us to compare many solvers based on their performances for some puzzles."
   ]
  },
  {
   "cell_type": "code",
   "execution_count": null,
   "metadata": {},
   "outputs": [],
   "source": [
    "eiffel_puzzle.ground_truth.display()"
   ]
  },
  {
   "cell_type": "markdown",
   "metadata": {},
   "source": [
    "When the game has started, the player has to place correctly the pieces from the bag of pieces into the Board.\n",
    "\n",
    "Here we used the approach described by the paper  [Pomeranz, D., Shemesh, M., & Ben-Shahar, O. (2011, June). A fully automated greedy square jigsaw puzzle solver. In CVPR 2011 (pp. 9-16). IEEE](https://www.cs.bgu.ac.il/~ben-shahar/Publications/2011-Pomeranz_Shemesh_and_Ben_Shahar-A_Fully_Automated_Greedy_Square_Jigsaw_Puzzle_Solver.pdf) <br>\n",
    "\n",
    "The approach consists in :\n",
    "    - placing all the pieces on the board according to a certain compatibility metric. The first piece is placed randomly and then we place others place greedily based on this compatibility metric. This is done by an algorithm called 'The Placer'\n",
    "    - keeping the part of the current solved puzzle which seems to be the highest well-arranged part. This is done by an algorithm called 'The segmenter'\n",
    "    - Then, we should just alternate these two algorithms until we are satisfied. This operation is done by an algorithm called 'The shifter'"
   ]
  },
  {
   "cell_type": "markdown",
   "metadata": {},
   "source": [
    "## Placer\n",
    "\n",
    "Now, let's see how the puzzle solver place the pieces into board. We just create the puzzle and shuffle it as before."
   ]
  },
  {
   "cell_type": "code",
   "execution_count": null,
   "metadata": {
    "tags": []
   },
   "outputs": [],
   "source": [
    "img = 255 * plt.imread(\"img/peppers.png\")[:,:,:3]\n",
    "#img = plt.imread(\"img/eiffel.jpg\")\n",
    "puzzle = Puzzle(img,patch(28))\n",
    "puzzle.ground_truth.display()"
   ]
  },
  {
   "cell_type": "markdown",
   "metadata": {},
   "source": [
    "We compute the compatibility matrix in the paper of [Pomeranz, D., Shemesh, M., & Ben-Shahar, O. (2011, June). A fully automated greedy square jigsaw puzzle solver. In CVPR 2011 (pp. 9-16). IEEE](https://www.cs.bgu.ac.il/~ben-shahar/Publications/2011-Pomeranz_Shemesh_and_Ben_Shahar-A_Fully_Automated_Greedy_Square_Jigsaw_Puzzle_Solver.pdf) <br><br>\n",
    "The compatibility matrix contains the compatibilities values of each piece with each others. For example, if there are 100 pieces, the shape of the matrix should be 100x100.\n",
    "\n",
    "**N.B. : The computation of the compatibility matrix will take some times if the puzzle is too big.**"
   ]
  },
  {
   "cell_type": "code",
   "execution_count": null,
   "metadata": {},
   "outputs": [],
   "source": [
    "CM = pomeranz_CM(puzzle)"
   ]
  },
  {
   "cell_type": "markdown",
   "metadata": {},
   "source": [
    "To place the piece, the puzzle solver just choose the first piece and place it also randomly. \n",
    "\n",
    "Then, he checks which pieces seem to be the more adequates to be placed around it according to their compatibilities.\n",
    "\n",
    "<br>At last, he do it again and again with the new pieces until the board is full. <br>\n",
    "\n",
    "We call this method as greedy_placer."
   ]
  },
  {
   "cell_type": "code",
   "execution_count": null,
   "metadata": {
    "tags": []
   },
   "outputs": [],
   "source": [
    "# The placer\n",
    "puzzle.clean()\n",
    "greedy_placer(puzzle, CM, rolling=False)\n",
    "puzzle.display()"
   ]
  },
  {
   "cell_type": "code",
   "execution_count": null,
   "metadata": {},
   "outputs": [],
   "source": [
    "# New version of the placer with the rolling behaviour\n",
    "puzzle.clean()\n",
    "greedy_placer(puzzle, CM, rolling=True)\n",
    "puzzle.display()"
   ]
  },
  {
   "cell_type": "markdown",
   "metadata": {},
   "source": [
    "## Segmenter\n",
    "\n",
    "After the board is full, the puzzle solver will reuse the compatibility matrix to find the best segment and keep it alone into the Board."
   ]
  },
  {
   "cell_type": "code",
   "execution_count": null,
   "metadata": {},
   "outputs": [],
   "source": [
    "BB = BestBuddies_matrix(CM)"
   ]
  },
  {
   "cell_type": "code",
   "execution_count": null,
   "metadata": {
    "tags": []
   },
   "outputs": [],
   "source": [
    "segment = segmenter(puzzle,BB)"
   ]
  },
  {
   "cell_type": "code",
   "execution_count": null,
   "metadata": {},
   "outputs": [],
   "source": [
    "remove_all_but_segment(puzzle,segment)"
   ]
  },
  {
   "cell_type": "code",
   "execution_count": null,
   "metadata": {},
   "outputs": [],
   "source": [
    "puzzle.display()"
   ]
  },
  {
   "cell_type": "markdown",
   "metadata": {},
   "source": [
    "## Solver"
   ]
  },
  {
   "cell_type": "markdown",
   "metadata": {},
   "source": [
    "Here, we show how to call the solver. It's in fact very simple, we just need a puzzle and a number of maximal iterations !"
   ]
  },
  {
   "cell_type": "code",
   "execution_count": null,
   "metadata": {},
   "outputs": [],
   "source": [
    "solve(puzzle,n_iter_max=3)"
   ]
  },
  {
   "cell_type": "markdown",
   "metadata": {},
   "source": [
    "The puzzle has been correctly solved but maybe this is too easy, we can try we more pieces"
   ]
  },
  {
   "cell_type": "code",
   "execution_count": null,
   "metadata": {},
   "outputs": [],
   "source": [
    "puzzle.change_structure(nb_pieces(100))\n",
    "solve(puzzle,n_iter_max=3)"
   ]
  },
  {
   "cell_type": "markdown",
   "metadata": {},
   "source": [
    "This time the result is not so good... Let's see if we use more iterations"
   ]
  },
  {
   "cell_type": "code",
   "execution_count": null,
   "metadata": {},
   "outputs": [],
   "source": [
    "solve(puzzle,n_iter_max=10)"
   ]
  },
  {
   "cell_type": "markdown",
   "metadata": {},
   "source": [
    "It's better =)"
   ]
  },
  {
   "cell_type": "markdown",
   "metadata": {},
   "source": [
    "## Evaluation of our solver\n",
    "\n",
    "We have challenged our solver with the same puzzle but cutted into different number of pieces in order to see if it has a significant impact on the solving."
   ]
  },
  {
   "cell_type": "code",
   "execution_count": null,
   "metadata": {},
   "outputs": [],
   "source": [
    "import pandas as pd\n",
    "results=pd.DataFrame()\n",
    "NB_PIECES=[16,32,64,128,256]\n",
    "Simple_eval=[]\n",
    "Neighbor_eval=[]\n",
    "BB_eval=[]\n",
    "\n",
    "for nb_piece in NB_PIECES:\n",
    "    plt.figure()\n",
    "    eiffel_puzzle.change_structure(nb_pieces(nb_piece))\n",
    "    eiffel_puzzle.clean()\n",
    "    solve(eiffel_puzzle,n_iter_max=2)\n",
    "    BB = BestBuddies_matrix(pomeranz_CM(eiffel_puzzle))\n",
    "    Simple_eval.append(simple_evaluation(eiffel_puzzle.ground_truth,eiffel_puzzle))\n",
    "    Neighbor_eval.append(neighbor_comparison(eiffel_puzzle.ground_truth,eiffel_puzzle))\n",
    "    BB_eval.append(BestBuddies_metric(eiffel_puzzle,BB))\n",
    " \n",
    "results['NB_PIECES']=NB_PIECES\n",
    "results['Simple_eval']=Simple_eval\n",
    "results['Neighbor_eval']=Neighbor_eval\n",
    "results['BB_eval']=BB_eval"
   ]
  },
  {
   "cell_type": "code",
   "execution_count": null,
   "metadata": {},
   "outputs": [],
   "source": [
    "results"
   ]
  }
 ],
 "metadata": {
  "kernelspec": {
   "display_name": "Python 3",
   "language": "python",
   "name": "python3"
  },
  "language_info": {
   "codemirror_mode": {
    "name": "ipython",
    "version": 3
   },
   "file_extension": ".py",
   "mimetype": "text/x-python",
   "name": "python",
   "nbconvert_exporter": "python",
   "pygments_lexer": "ipython3",
   "version": "3.7.7"
  }
 },
 "nbformat": 4,
 "nbformat_minor": 4
}
