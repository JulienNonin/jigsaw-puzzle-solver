{
 "cells": [
  {
   "cell_type": "code",
   "execution_count": null,
   "metadata": {
    "tags": []
   },
   "outputs": [],
   "source": [
    "%load_ext autoreload\n",
    "%autoreload 2\n",
    "import numpy as np\n",
    "import matplotlib.pyplot as plt\n",
    "from jigsolver import *\n",
    "from copy import copy, deepcopy"
   ]
  },
  {
   "cell_type": "markdown",
   "metadata": {},
   "source": [
    "### Modelisation of a Piece"
   ]
  },
  {
   "cell_type": "code",
   "execution_count": null,
   "metadata": {},
   "outputs": [],
   "source": [
    "np.random.seed(0)\n",
    "P=Piece(np.random.randint(255,size=(3,3,3)))\n",
    "Q=Piece(np.random.randint(255,size=(3,3,3)))\n",
    "plt.imshow(P.picture)\n",
    "plt.title('Example of a Piece')\n",
    "plt.show()\n",
    "\n",
    "plt.imshow([P.get_border(Border.BOTTOM)])\n",
    "plt.title('Bottom border of the piece')"
   ]
  },
  {
   "cell_type": "markdown",
   "metadata": {},
   "source": [
    "<hr/>"
   ]
  },
  {
   "cell_type": "markdown",
   "metadata": {},
   "source": [
    "### Modelisation of a puzzle"
   ]
  },
  {
   "cell_type": "code",
   "execution_count": null,
   "metadata": {
    "tags": []
   },
   "outputs": [],
   "source": [
    "img_folder = 'img/'\n",
    "img = plt.imread(img_folder + \"eiffel.jpg\")"
   ]
  },
  {
   "cell_type": "code",
   "execution_count": null,
   "metadata": {},
   "outputs": [],
   "source": [
    "eiffel_puzzle = Puzzle(patch_size=100)\n",
    "eiffel_puzzle.create_from_img(img)\n",
    "eiffel_puzzle.display()"
   ]
  },
  {
   "cell_type": "code",
   "execution_count": null,
   "metadata": {},
   "outputs": [],
   "source": [
    "eiffel_unsolved = copy(eiffel_puzzle)\n",
    "eiffel_unsolved.shuffle()"
   ]
  },
  {
   "cell_type": "code",
   "execution_count": null,
   "metadata": {},
   "outputs": [],
   "source": [
    "some_piece = eiffel_unsolved.bag_of_pieces[0]\n",
    "eiffel_unsolved.board[3,2] = some_piece\n",
    "some_piece = eiffel_unsolved.bag_of_pieces[1]\n",
    "eiffel_unsolved.board[2,2] = some_piece"
   ]
  },
  {
   "cell_type": "code",
   "execution_count": null,
   "metadata": {},
   "outputs": [],
   "source": [
    "eiffel_unsolved.display()"
   ]
  },
  {
   "cell_type": "code",
   "execution_count": null,
   "metadata": {
    "tags": []
   },
   "outputs": [],
   "source": [
    "for slot in eiffel_unsolved.board.neighbors(3,2):\n",
    "    print(slot)"
   ]
  },
  {
   "cell_type": "code",
   "execution_count": null,
   "metadata": {},
   "outputs": [],
   "source": []
  },
  {
   "cell_type": "code",
   "execution_count": null,
   "metadata": {},
   "outputs": [],
   "source": []
  },
  {
   "cell_type": "markdown",
   "metadata": {},
   "source": [
    "## Naiv Placer"
   ]
  },
  {
   "cell_type": "code",
   "execution_count": null,
   "metadata": {},
   "outputs": [],
   "source": [
    "from jigsolver.placer import decide_piece_to_add, available_positions"
   ]
  },
  {
   "cell_type": "code",
   "execution_count": null,
   "metadata": {
    "tags": []
   },
   "outputs": [],
   "source": [
    "img = 255 * plt.imread(\"img/peppers.png\")[:,:,:3]\n",
    "puzzle = Puzzle(patch_size=28)\n",
    "puzzle.create_from_img(img)\n",
    "puzzle.display()\n",
    "puzzle.shuffle()"
   ]
  },
  {
   "cell_type": "code",
   "execution_count": null,
   "metadata": {},
   "outputs": [],
   "source": [
    "n_rows, n_cols = puzzle.shape\n",
    "n_pieces = n_rows * n_cols\n",
    "compatibilities = np.array([[None]*n_pieces for _ in range(n_pieces)])\n",
    "for i in range(n_pieces):\n",
    "    for j in range(n_pieces):\n",
    "        compatibilities[i,j] = dict(zip('LRBU', np.random.rand(4)))"
   ]
  },
  {
   "cell_type": "code",
   "execution_count": null,
   "metadata": {
    "tags": []
   },
   "outputs": [],
   "source": [
    "naiv_greedy_placer(puzzle, compatibilities, display=True)"
   ]
  }
 ],
 "metadata": {
  "kernelspec": {
   "display_name": "Python 3",
   "language": "python",
   "name": "python3"
  },
  "language_info": {
   "codemirror_mode": {
    "name": "ipython",
    "version": 3
   },
   "file_extension": ".py",
   "mimetype": "text/x-python",
   "name": "python",
   "nbconvert_exporter": "python",
   "pygments_lexer": "ipython3",
   "version": "3.7.6-final"
  }
 },
 "nbformat": 4,
 "nbformat_minor": 4
}