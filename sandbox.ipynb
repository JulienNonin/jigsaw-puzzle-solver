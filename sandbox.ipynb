{
 "cells": [
  {
   "cell_type": "code",
   "execution_count": null,
   "metadata": {},
   "outputs": [],
   "source": [
    "import jigsolver\n",
    "import numpy as np\n",
    "import matplotlib.pyplot as plt\n",
    "from jigsolver.puzzle import *\n",
    "from copy import copy, deepcopy"
   ]
  },
  {
   "cell_type": "code",
   "execution_count": null,
   "metadata": {},
   "outputs": [],
   "source": [
    "np.random.seed(0)\n",
    "P=Piece(np.random.random(size=(3,3,3)))\n",
    "Q=Piece(np.random.random(size=(3,3,3)))\n",
    "plt.imshow(P.picture)\n",
    "plt.title('Example of a Piece')\n",
    "plt.show()\n",
    "\n",
    "plt.imshow(P.bottom_side)\n",
    "plt.title('Bottom border of the piece')"
   ]
  },
  {
   "cell_type": "code",
   "execution_count": null,
   "metadata": {
    "tags": []
   },
   "outputs": [],
   "source": [
    "img_folder = 'img/'\n",
    "img = plt.imread(img_folder + \"eiffel.jpg\")"
   ]
  },
  {
   "cell_type": "code",
   "execution_count": null,
   "metadata": {},
   "outputs": [],
   "source": [
    "eiffel_puzzle = Puzzle(patch_size=100)\n",
    "eiffel_puzzle.create_from_img(img)\n",
    "eiffel_puzzle.display()"
   ]
  },
  {
   "cell_type": "code",
   "execution_count": null,
   "metadata": {},
   "outputs": [],
   "source": [
    "eiffel_unsolved = copy(eiffel_puzzle)\n",
    "eiffel_unsolved.shuffle()"
   ]
  },
  {
   "cell_type": "code",
   "execution_count": null,
   "metadata": {},
   "outputs": [],
   "source": [
    "some_piece = eiffel_unsolved.bag_of_pieces[0]\n",
    "eiffel_unsolved.board[3,2] = some_piece\n",
    "some_piece = eiffel_unsolved.bag_of_pieces[1]\n",
    "eiffel_unsolved.board[2,2] = some_piece"
   ]
  },
  {
   "cell_type": "code",
   "execution_count": null,
   "metadata": {},
   "outputs": [],
   "source": [
    "eiffel_unsolved.display()"
   ]
  },
  {
   "cell_type": "code",
   "execution_count": null,
   "metadata": {
    "tags": []
   },
   "outputs": [],
   "source": [
    "for slot in eiffel_unsolved.board.neighbors(3,2):\n",
    "    print(slot)"
   ]
  }
 ],
 "metadata": {
  "kernelspec": {
   "display_name": "Python 3",
   "language": "python",
   "name": "python3"
  },
  "language_info": {
   "codemirror_mode": {
    "name": "ipython",
    "version": 3
   },
   "file_extension": ".py",
   "mimetype": "text/x-python",
   "name": "python",
   "nbconvert_exporter": "python",
   "pygments_lexer": "ipython3",
   "version": "3.7.1"
  }
 },
 "nbformat": 4,
 "nbformat_minor": 4
}
