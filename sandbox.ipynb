{
 "cells": [
  {
   "cell_type": "markdown",
   "metadata": {},
   "source": [
    "# Tutorial of  puzzle solver"
   ]
  },
  {
   "cell_type": "markdown",
   "metadata": {},
   "source": [
    "[![Open In Colab](https://colab.research.google.com/assets/colab-badge.svg)](https://colab.research.google.com/github/JulienNonin/jigsaw-puzzle-solver/blob/master/sandbox.ipynb)"
   ]
  },
  {
   "cell_type": "code",
   "execution_count": null,
   "metadata": {},
   "outputs": [],
   "source": [
    "! git clone https://github.com/JulienNonin/jigsaw-puzzle-solver.git"
   ]
  },
  {
   "cell_type": "code",
   "execution_count": null,
   "metadata": {},
   "outputs": [],
   "source": [
    "cd jigsaw-puzzle-solver"
   ]
  },
  {
   "cell_type": "markdown",
   "metadata": {},
   "source": [
    "## Introduction\n",
    "The idea of our project is to implement a puzzle solver which can generate puzzles in a custom way (according to the number of pieces, size, etc) and solve puzzles in different ways (according to different color spaces, different compatibility calculation methods, etc). \n",
    "<br>\n",
    "Our project is inspired by [Pomeranz, D., Shemesh, M., & Ben-Shahar, O. (2011, June). A fully automated greedy square jigsaw puzzle solver. In CVPR 2011 (pp. 9-16). IEEE](https://www.cs.bgu.ac.il/~ben-shahar/Publications/2011-Pomeranz_Shemesh_and_Ben_Shahar-A_Fully_Automated_Greedy_Square_Jigsaw_Puzzle_Solver.pdf)"
   ]
  },
  {
   "cell_type": "markdown",
   "metadata": {},
   "source": [
    "## Demonstrate\n",
    "The following will demonstrate the main function of puzzle solver:\n",
    "\n",
    "At first, we import all packages we need."
   ]
  },
  {
   "cell_type": "code",
   "execution_count": null,
   "metadata": {
    "tags": []
   },
   "outputs": [],
   "source": [
    "%load_ext autoreload\n",
    "%autoreload 2\n",
    "import numpy as np\n",
    "import matplotlib.pyplot as plt\n",
    "from jigsolver.puzzle import *\n",
    "from jigsolver.metrics import *\n",
    "from jigsolver.pomeranz_solver.solver import *\n",
    "from copy import copy, deepcopy"
   ]
  },
  {
   "cell_type": "markdown",
   "metadata": {},
   "source": [
    "### Modelisation of a Piece\n",
    "\n",
    "Here we created a piece with 3x3 pixels, we can get Top border of the piece and Bottom border of the piece easily. The main idea of the puzzle solver is based on comparing the compatibility between pieces."
   ]
  },
  {
   "cell_type": "code",
   "execution_count": null,
   "metadata": {},
   "outputs": [],
   "source": [
    "np.random.seed(1)\n",
    "P=Piece(np.random.randint(255,size=(3,3,3)))\n",
    "Q=Piece(np.random.randint(255,size=(3,3,3)))\n",
    "\n",
    "plt.figure(figsize=(12,10))\n",
    "\n",
    "plt.subplot(1,3,1)\n",
    "plt.imshow(P.picture,alpha=0.5)\n",
    "plt.title('Example of a Piece')\n",
    "\n",
    "plt.subplot(1,3,2)\n",
    "plt.imshow([P.get_border(Border.TOP)],alpha=0.5)\n",
    "plt.title('Top border of the piece')\n",
    "\n",
    "plt.subplot(1,3,3)\n",
    "plt.imshow([P.get_border(Border.BOTTOM)],alpha=0.5)\n",
    "plt.title('Bottom border of the piece')"
   ]
  },
  {
   "cell_type": "markdown",
   "metadata": {},
   "source": [
    "<hr/>"
   ]
  },
  {
   "cell_type": "markdown",
   "metadata": {},
   "source": [
    "### Modelisation of a puzzle\n",
    "\n",
    "Here we show how to create a Puzzle. We can create it by many ways : \n",
    "- Giving a number of pieces specifying the initializer <code>nb_pieces</code>\n",
    "- Giving a number of rows and number of columns specifying the initializer <code>nb_rows_and_columns</code>\n",
    "- Giving a particular patch_size specifying the initializer <code>patch</code>"
   ]
  },
  {
   "cell_type": "code",
   "execution_count": null,
   "metadata": {
    "tags": []
   },
   "outputs": [],
   "source": [
    "#import of the image\n",
    "img_folder = 'img/'\n",
    "img = plt.imread(img_folder + \"eiffel.jpg\")"
   ]
  },
  {
   "cell_type": "code",
   "execution_count": null,
   "metadata": {},
   "outputs": [],
   "source": [
    "N=24\n",
    "rows_and_columns=(9,13)\n",
    "patch_size=100\n",
    "\n",
    "plt.figure(figsize=(20,20))\n",
    "\n",
    "plt.subplot(1,3,1)\n",
    "eiffel_puzzle = Puzzle(img,nb_pieces(N))\n",
    "plt.title(f'A puzzle with {N} pieces ')\n",
    "eiffel_puzzle.ground_truth.display()\n",
    "\n",
    "\n",
    "plt.subplot(1,3,2)\n",
    "eiffel_puzzle = Puzzle(img,nb_rows_and_columns(rows_and_columns))\n",
    "plt.title(f'A puzzle with {rows_and_columns[0]} rows and {rows_and_columns[1]} columns ')\n",
    "eiffel_puzzle.ground_truth.display()\n",
    "\n",
    "plt.subplot(1,3,3)\n",
    "eiffel_puzzle = Puzzle(img,patch(patch_size))\n",
    "plt.title(f'A puzzle based on patches of lengths {100} ')\n",
    "eiffel_puzzle.ground_truth.display()"
   ]
  },
  {
   "cell_type": "markdown",
   "metadata": {},
   "source": [
    "You can easily change from one configuration to an other using the method <code> change_structure </code>"
   ]
  },
  {
   "cell_type": "code",
   "execution_count": null,
   "metadata": {},
   "outputs": [],
   "source": [
    "eiffel_puzzle = Puzzle(img,nb_pieces(N))\n",
    "\n",
    "plt.figure(figsize=(20,20))\n",
    "\n",
    "plt.subplot(1,3,1)\n",
    "\n",
    "eiffel_puzzle.change_structure(patch(200))\n",
    "plt.title(f'A puzzle based on patches of lengths 200 ')\n",
    "eiffel_puzzle.ground_truth.display()\n",
    "\n",
    "\n",
    "plt.subplot(1,3,2)\n",
    "eiffel_puzzle.change_structure(nb_rows_and_columns((10,10)))\n",
    "plt.title(f'A puzzle with 10 rows and 10 columns ')\n",
    "eiffel_puzzle.ground_truth.display()"
   ]
  },
  {
   "cell_type": "markdown",
   "metadata": {},
   "source": [
    "### Prepare to play\n",
    "\n",
    "When you create a puzzle, some pieces are created and gathered into a list called bag_of_pieces that you can obtain easily doing <code>MyPuzzle.bag_of_pieces</code>\n",
    "Immediately after, these pieces are shuffled and the game can start\n",
    "\n",
    "When the game start, the player ground is empty. We will call this player ground a **Board**"
   ]
  },
  {
   "cell_type": "code",
   "execution_count": null,
   "metadata": {},
   "outputs": [],
   "source": [
    "eiffel_puzzle.display()"
   ]
  },
  {
   "cell_type": "markdown",
   "metadata": {},
   "source": [
    "Nevertheless, you can retrieve the original arrangement using <code>eiffel_puzzle.ground_truth</code>. \n",
    "\n",
    "This is done in order to be able to compute a performance metric which could enable us to compare many solvers based on their performances for some puzzles."
   ]
  },
  {
   "cell_type": "code",
   "execution_count": null,
   "metadata": {},
   "outputs": [],
   "source": [
    "eiffel_puzzle.ground_truth.display()"
   ]
  },
  {
   "cell_type": "markdown",
   "metadata": {},
   "source": [
    "When the game has started, the player has to place correctly the pieces from the bag of pieces into the Board.\n",
    "\n",
    "Here we used an approach using some compatibilities metrics enabling the computer to evaluate how well two pieces matches."
   ]
  },
  {
   "cell_type": "markdown",
   "metadata": {},
   "source": [
    "## Placer\n",
    "\n",
    "Now, let's see how the puzzle solver place the pieces into board. We just create the puzzle and shuffle it as before."
   ]
  },
  {
   "cell_type": "code",
   "execution_count": null,
   "metadata": {
    "tags": []
   },
   "outputs": [],
   "source": [
    "img = 255 * plt.imread(\"img/peppers.png\")[:,:,:3]\n",
    "#img = plt.imread(\"img/eiffel.jpg\")\n",
    "puzzle = Puzzle(patch_size=28)\n",
    "puzzle.create_from_img(img)\n",
    "puzzle.display()\n",
    "puzzle.shuffle()"
   ]
  },
  {
   "cell_type": "markdown",
   "metadata": {},
   "source": [
    "We compute the compatibility matrix in the paper of [Pomeranz, D., Shemesh, M., & Ben-Shahar, O. (2011, June). A fully automated greedy square jigsaw puzzle solver. In CVPR 2011 (pp. 9-16). IEEE](https://www.cs.bgu.ac.il/~ben-shahar/Publications/2011-Pomeranz_Shemesh_and_Ben_Shahar-A_Fully_Automated_Greedy_Square_Jigsaw_Puzzle_Solver.pdf) <br><br>\n",
    "The compatibility matrix has the compatibility value of each piece with others. For example, if there totally 100 pieces the shape of the matrix should be 100x100. In this case, the compute of the compatibility matrix will take some times when the puzzle is big.\n"
   ]
  },
  {
   "cell_type": "code",
   "execution_count": null,
   "metadata": {},
   "outputs": [],
   "source": [
    "CM = pomeranz_CM(puzzle)"
   ]
  },
  {
   "cell_type": "markdown",
   "metadata": {},
   "source": [
    "To place the piece, the puzzle solver just choose the first piece randomly and place it randomly, then compare all border which can near the piece placed with all others, then place the best one, which have best compatibility, to the slot. <br>And do it again and again until the board is full. <br>\n",
    "We call this method as greedy_placer."
   ]
  },
  {
   "cell_type": "code",
   "execution_count": null,
   "metadata": {},
   "outputs": [],
   "source": [
    "puzzle.clean()\n",
    "naiv_greedy_placer(puzzle, CM, display=False)\n",
    "puzzle.display()"
   ]
  },
  {
   "cell_type": "code",
   "execution_count": null,
   "metadata": {
    "tags": []
   },
   "outputs": [],
   "source": [
    "# Improved version of the placer\n",
    "puzzle.clean()\n",
    "greedy_placer(puzzle, CM, rolling=False)\n",
    "puzzle.display()"
   ]
  },
  {
   "cell_type": "code",
   "execution_count": null,
   "metadata": {},
   "outputs": [],
   "source": [
    "# New version of the placer with the rolling behaviour\n",
    "puzzle.clean()\n",
    "greedy_placer(puzzle, CM, rolling=True)\n",
    "puzzle.display()"
   ]
  },
  {
   "cell_type": "markdown",
   "metadata": {},
   "source": [
    "## Segmenter\n",
    "\n",
    "After the board is full, the puzzle solver will reuse the compatibility matrix to find the BestBuddies and just keep the best segmenter in board."
   ]
  },
  {
   "cell_type": "code",
   "execution_count": null,
   "metadata": {},
   "outputs": [],
   "source": [
    "BB = BestBuddies_matrix(CM)"
   ]
  },
  {
   "cell_type": "code",
   "execution_count": null,
   "metadata": {
    "tags": []
   },
   "outputs": [],
   "source": [
    "segment = segmenter(puzzle,BB)"
   ]
  },
  {
   "cell_type": "code",
   "execution_count": null,
   "metadata": {},
   "outputs": [],
   "source": [
    "remove_all_but_segment(puzzle,segment)"
   ]
  },
  {
   "cell_type": "code",
   "execution_count": null,
   "metadata": {},
   "outputs": [],
   "source": [
    "puzzle.display()"
   ]
  },
  {
   "cell_type": "code",
   "execution_count": null,
   "metadata": {},
   "outputs": [],
   "source": []
  }
 ],
 "metadata": {
  "kernelspec": {
   "display_name": "Python 3",
   "language": "python",
   "name": "python3"
  },
  "language_info": {
   "codemirror_mode": {
    "name": "ipython",
    "version": 3
   },
   "file_extension": ".py",
   "mimetype": "text/x-python",
   "name": "python",
   "nbconvert_exporter": "python",
   "pygments_lexer": "ipython3",
   "version": "3.7.7"
  }
 },
 "nbformat": 4,
 "nbformat_minor": 4
}
